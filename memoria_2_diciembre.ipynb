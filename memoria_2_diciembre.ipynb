{
  "nbformat": 4,
  "nbformat_minor": 0,
  "metadata": {
    "colab": {
      "name": "memoria 29 noviembre.ipynb",
      "provenance": [],
      "collapsed_sections": [
        "fXcukXupLtha",
        "Ft1EchzZLxKo"
      ],
      "authorship_tag": "ABX9TyO/o4CSDB5G6Ylyjqdh1L6J",
      "include_colab_link": true
    },
    "kernelspec": {
      "display_name": "Python 3",
      "name": "python3"
    },
    "language_info": {
      "name": "python"
    }
  },
  "cells": [
    {
      "cell_type": "markdown",
      "metadata": {
        "id": "view-in-github",
        "colab_type": "text"
      },
      "source": [
        "<a href=\"https://colab.research.google.com/github/lsescares/aamemoria/blob/main/memoria_2_diciembre.ipynb\" target=\"_parent\"><img src=\"https://colab.research.google.com/assets/colab-badge.svg\" alt=\"Open In Colab\"/></a>"
      ]
    },
    {
      "cell_type": "code",
      "metadata": {
        "colab": {
          "base_uri": "https://localhost:8080/"
        },
        "id": "ElFQxW0mgzpF",
        "outputId": "9afa4bd4-2746-4400-9a94-cbf292306ce1"
      },
      "source": [
        "import numpy as np\n",
        "import pandas as pd\n",
        "import cv2\n",
        "import math\n",
        "from google.colab.patches import cv2_imshow\n",
        "from skimage.color import rgb2gray\n",
        "from skimage import data, filters, measure, morphology, io\n",
        "import matplotlib.pyplot as plt\n",
        "\n",
        "import xml.etree.ElementTree as ET\n",
        "import os\n",
        "from tqdm import tqdm\n",
        "from google.colab import drive\n",
        "drive.mount('/content/gdrive')"
      ],
      "execution_count": 44,
      "outputs": [
        {
          "output_type": "stream",
          "name": "stdout",
          "text": [
            "Drive already mounted at /content/gdrive; to attempt to forcibly remount, call drive.mount(\"/content/gdrive\", force_remount=True).\n"
          ]
        }
      ]
    },
    {
      "cell_type": "markdown",
      "metadata": {
        "id": "bshkRhTrEB-t"
      },
      "source": [
        "#Identificacion celular"
      ]
    },
    {
      "cell_type": "markdown",
      "metadata": {
        "id": "bSgohffTm_9f"
      },
      "source": [
        "##Generacion comando txt cortar toda roi"
      ]
    },
    {
      "cell_type": "code",
      "metadata": {
        "colab": {
          "base_uri": "https://localhost:8080/"
        },
        "id": "bv6vdgwbgzlX",
        "outputId": "905164af-0ca2-4fa5-85ca-c492ab580bc6"
      },
      "source": [
        "%cd\"/content/gdrive/MyDrive/memoria/\"\n",
        "!ls\n",
        "#el comando ls deberia mostrar la imagen grande y el jupyterNotebook"
      ],
      "execution_count": 45,
      "outputs": [
        {
          "output_type": "stream",
          "name": "stdout",
          "text": [
            "/content/gdrive/MyDrive/memoria\n",
            " comandos_terminal.txt\t\t   ejemplo_x2.5_z0.tif\n",
            " ejemplo.ndpi\t\t\t   ejemplo_x5_z0.tif\n",
            " ejemplo_rois_dibujadas.tif\t   ejemplo.xml\n",
            " ejemplo_rois_dibujadas_x2.5.tif  'estado 28 5 2021.gdoc'\n",
            " ejemplo_rois_dibujadas_x5.tif\t   jueves22\n",
            " ejemplo_x0.625_z0.tif\t\t   pre-resumen.gdoc\n",
            " ejemplo_x1.25_z0.tif\t\t  'topicos de presentación avance 4 junio.gdoc'\n"
          ]
        }
      ]
    },
    {
      "cell_type": "code",
      "metadata": {
        "id": "DhFK5koogzh6"
      },
      "source": [
        "def read_xml(ndpa_path):\n",
        "    tree = ET.parse(ndpa_path)\n",
        "    root = tree.getroot()\n",
        "    anotaciones=root.findall(\".//ndpviewstate\")\n",
        "    anotaciones_ndpiycolores=[]    \n",
        "    anotaciones_ndpi=[]\n",
        "    colores_roi = []\n",
        "    for anotacion in anotaciones:\n",
        "        color_roi = anotacion[10].attrib['color']\n",
        "        l_aux=[]\n",
        "        x_ndpi = int(anotacion[10][0].text)\n",
        "        y_ndpi = int(anotacion[10][1].text)\n",
        "        l_aux.append(x_ndpi)\n",
        "        l_aux.append(y_ndpi)\n",
        "        radio_ndpi = anotacion[10][2].text\n",
        "        if radio_ndpi != 'pinred':#POR CORREGIR: casos donde el pin sea de otro color, ejemplo azul seria un pinblue\n",
        "            radio_ndpi = int(radio_ndpi)\n",
        "            l_aux.append(radio_ndpi)\n",
        "            anotaciones_ndpi.append(l_aux)\n",
        "            colores_roi.append(color_roi)\n",
        "    anotaciones_ndpiycolores.append(anotaciones_ndpi)\n",
        "    anotaciones_ndpiycolores.append(colores_roi)\n",
        "    return anotaciones_ndpiycolores  "
      ],
      "execution_count": 46,
      "outputs": []
    },
    {
      "cell_type": "code",
      "metadata": {
        "id": "MlKW_eH9gzZa"
      },
      "source": [
        "def transformacion_color2clase(colores_roi):\n",
        "    mapeo_color2clase = {'#ff00ff' : '3+', \n",
        "                   '#0000ff' : '2+', \n",
        "                   '#ff0000' : '1+',\n",
        "                   '#00ff00' : '0',\n",
        "                   '#ffff00' : '0', \n",
        "                   '#000000' : 'no-tumor',\n",
        "                   } \n",
        "    clases_roi = []\n",
        "    for color in colores_roi:\n",
        "        clases_roi.append(mapeo_color2clase[color])\n",
        "    return clases_roi\n",
        "\n",
        "def transformacion_clase2color(clases_roi):\n",
        "    mapeo_clases2color = {'3+':'#ff00ff', \n",
        "                          '2+':'#0000ff',\n",
        "                          '1+':'#ff0000',               \n",
        "                          '0':'#00ff00',#CLASE 0 SIEMPRE LOS TIRARA A VERDE\n",
        "                          '0':'#ffff00',\n",
        "                          'no-tumor':'#000000'\n",
        "                        } \n",
        "    colors_roi = []\n",
        "    for clase in clases_roi:\n",
        "        colors_roi.append(mapeo_clases2color[clase])\n",
        "    return colors_roi"
      ],
      "execution_count": 47,
      "outputs": []
    },
    {
      "cell_type": "markdown",
      "metadata": {
        "id": "ADXuReC9nTg3"
      },
      "source": [
        "se ejecutan los comando txt en el computador y se ejecuta el macro para extrar los canales H y canal DAB. luego se suben a google drive y se procesa en las siguientes celdas."
      ]
    },
    {
      "cell_type": "code",
      "metadata": {
        "id": "_YWB_sxVgzVx"
      },
      "source": [
        "def transformacion_ndpi2pixeles(anotaciones_ndpi):\n",
        "    anotaciones_pixeles=[]\n",
        "    for anotacion in anotaciones_ndpi:\n",
        "        list_aux=[]\n",
        "        x_ndpi = anotacion[0]\n",
        "        y_ndpi = anotacion[1]\n",
        "        x_pixeles = int((x_ndpi + 10010504)/227)\n",
        "        y_pixeles = int((y_ndpi + 11736845)/227)\n",
        "        radius = anotacion[2]\n",
        "        radio_pixeles =int(radius/227)#forzamos que sea int porque son pixeles\n",
        "        list_aux.append(x_pixeles)\n",
        "        list_aux.append(y_pixeles)\n",
        "        list_aux.append(radio_pixeles)\n",
        "        anotaciones_pixeles.append(list_aux)\n",
        "    return anotaciones_pixeles\n",
        "\n",
        "def esquinas_cuadrado_roi(anotaciones_pixeles):\n",
        "    contenedor_esquinayladocuadrado=[]\n",
        "    for anotacion in anotaciones_pixeles:\n",
        "        esquinayladocuadrado=[]\n",
        "        x_roi = anotacion[0]\n",
        "        y_roi = anotacion[1]\n",
        "        radio = anotacion[2]\n",
        "        lado_cuadrado = int(radio * math.sqrt(2)) \n",
        "        esq_sup_izq =[int(x_roi - radio/math.sqrt(2)),int(y_roi + radio/math.sqrt(2))]\n",
        "        esquinayladocuadrado.append(esq_sup_izq)\n",
        "        esquinayladocuadrado.append(lado_cuadrado)\n",
        "        contenedor_esquinayladocuadrado.append(esquinayladocuadrado)\n",
        "    return contenedor_esquinayladocuadrado\n",
        "\n",
        "def comandos_terminal_ndpisplit_cuadrado_roi(contenedor_esquinayladocuadrado,clases_roi):\n",
        "    comandos=[]\n",
        "    ID_anotacion = 0\n",
        "    for eyl in contenedor_esquinayladocuadrado: \n",
        "        x_sup_izq = str(eyl[0][0])\n",
        "        y_sup_izq = str(eyl[0][1])\n",
        "        ancho_parche = str(eyl[1])\n",
        "        largo_parche = str(eyl[1])\n",
        "        clase_roi = clases_roi[ID_anotacion]#ya es str\n",
        "        ID_parche = 'a'+str(ID_anotacion) + '_clase_'+clase_roi                \n",
        "        comandos.append('ndpisplit -Ex40,z0,'+ x_sup_izq +','+ y_sup_izq +','+ ancho_parche +','+ largo_parche +','+ ID_parche +' -K ejemplo.ndpi')\n",
        "        #print('ndpisplit -Ex40,z0,0,0,'+str(int(esquina[0]))+','+str(int(esquina[1]))+',mylabel -K ejemplo.ndpi')\n",
        "        ID_anotacion +=1    \n",
        "    return comandos\n",
        "\n",
        "def save_comandos_txt(comandos_ndpi):\n",
        "    with open('comandos_terminal.txt', \"w\") as f:\n",
        "        for comando in comandos_ndpi:\n",
        "            f.write(str(comando) +\"\\n\")\n",
        "\n",
        "            "
      ],
      "execution_count": 48,
      "outputs": []
    },
    {
      "cell_type": "code",
      "metadata": {
        "colab": {
          "base_uri": "https://localhost:8080/"
        },
        "id": "A_9mFJD6gzFO",
        "outputId": "589f3529-fa0f-42eb-b316-2b0575afc370"
      },
      "source": [
        "import os\n",
        "#encontrar los paths de las imagenes H y DAB\n",
        "base_path_H = \"/content/gdrive/MyDrive/memoria/jueves22/canalH/\"\n",
        "base_path_DAB = \"/content/gdrive/MyDrive/memoria/jueves22/canalDAB/\"\n",
        "\n",
        "canalH_paths=[]\n",
        "canalDAB_paths=[]\n",
        "[canalH_paths.append(img_path) for img_path in os.listdir(base_path_H)]\n",
        "[canalDAB_paths.append(img_path) for img_path in os.listdir(base_path_DAB)]\n",
        "\n",
        "def sort_especial(paths_list):\n",
        "    a=[]\n",
        "    for l in paths_list:\n",
        "        ID_anotacion = int(l.split('_')[3][1:])\n",
        "        b=[]\n",
        "        b.append(ID_anotacion)\n",
        "        b.append(l)\n",
        "        a.append(b)\n",
        "    path_sorted=sorted(a, key=lambda x:x[0])\n",
        "    path_final=[]\n",
        "    [path_final.append(path[1]) for path in path_sorted]\n",
        "    return path_final\n",
        "    \n",
        "canalH_paths = sort_especial(canalH_paths)#despues aplicar lo de hacerlo en forma de funcion que modifique el orden de la lista\n",
        "canalDAB_paths = sort_especial(canalDAB_paths)\n",
        "print(canalH_paths)\n",
        "print(canalDAB_paths)\n"
      ],
      "execution_count": 49,
      "outputs": [
        {
          "output_type": "stream",
          "name": "stdout",
          "text": [
            "['ejemplo_x40_z0_a0_clase_3+.png-H.tif', 'ejemplo_x40_z0_a1_clase_2+.png-H.tif', 'ejemplo_x40_z0_a2_clase_0.png-H.tif', 'ejemplo_x40_z0_a3_clase_3+.png-H.tif', 'ejemplo_x40_z0_a4_clase_0.png-H.tif', 'ejemplo_x40_z0_a5_clase_0.png-H.tif', 'ejemplo_x40_z0_a6_clase_no-tumor.png-H.tif', 'ejemplo_x40_z0_a7_clase_no-tumor.png-H.tif', 'ejemplo_x40_z0_a8_clase_no-tumor.png-H.tif', 'ejemplo_x40_z0_a9_clase_0.png-H.tif', 'ejemplo_x40_z0_a10_clase_2+.png-H.tif', 'ejemplo_x40_z0_a11_clase_2+.png-H.tif', 'ejemplo_x40_z0_a12_clase_2+.png-H.tif', 'ejemplo_x40_z0_a13_clase_1+.png-H.tif', 'ejemplo_x40_z0_a14_clase_2+.png-H.tif']\n",
            "['ejemplo_x40_z0_a0_clase_3+.png-DAB.tif', 'ejemplo_x40_z0_a1_clase_2+.png-DAB.tif', 'ejemplo_x40_z0_a2_clase_0.png-DAB.tif', 'ejemplo_x40_z0_a3_clase_3+.png-DAB.tif', 'ejemplo_x40_z0_a4_clase_0.png-DAB.tif', 'ejemplo_x40_z0_a5_clase_0.png-DAB.tif', 'ejemplo_x40_z0_a6_clase_no-tumor.png-DAB.tif', 'ejemplo_x40_z0_a7_clase_no-tumor.png-DAB.tif', 'ejemplo_x40_z0_a8_clase_no-tumor.png-DAB.tif', 'ejemplo_x40_z0_a9_clase_0.png-DAB.tif', 'ejemplo_x40_z0_a10_clase_2+.png-DAB.tif', 'ejemplo_x40_z0_a11_clase_2+.png-DAB.tif', 'ejemplo_x40_z0_a12_clase_2+.png-DAB.tif', 'ejemplo_x40_z0_a13_clase_1+.png-DAB.tif', 'ejemplo_x40_z0_a14_clase_2+.png-DAB.tif']\n"
          ]
        }
      ]
    },
    {
      "cell_type": "markdown",
      "metadata": {
        "id": "TcsIO9VODvDV"
      },
      "source": [
        "## Experimento: Umbral de otsu"
      ]
    },
    {
      "cell_type": "code",
      "metadata": {
        "colab": {
          "base_uri": "https://localhost:8080/"
        },
        "id": "D0vGTjWsDUBr",
        "outputId": "040667b3-6f9a-4471-d992-d9de2aaa418b"
      },
      "source": [
        "#from curso de mi profe guia, es la idea equivalente a otsu\n",
        "from skimage import data, filters, measure, morphology,io\n",
        "\n",
        "image = io.imread('/content/gdrive/MyDrive/memoria/jueves22/canalH/ejemplo_x40_z0_a0_clase_3+.png-H.tif')\n",
        "\n",
        "threshold = filters.threshold_otsu(image)#otsu tiene que entrar un grey scale\n",
        "print('threshold=',threshold)\n",
        "\n",
        "binary=image<threshold#esto es lo de la indexacion\n",
        "\n",
        "#imshow(binary, cmap='gray')\n",
        "all_labels = measure.label(binary, background=0)\n",
        "\n",
        "properties = measure.regionprops(all_labels)#<--- esto equivale a coneccted components, viene de skimage\n"
      ],
      "execution_count": 50,
      "outputs": [
        {
          "output_type": "stream",
          "name": "stdout",
          "text": [
            "threshold= 195\n"
          ]
        }
      ]
    },
    {
      "cell_type": "markdown",
      "metadata": {
        "id": "x2aZe-7P1dWk"
      },
      "source": [
        "### Filtro las celulas muy pequeñas"
      ]
    },
    {
      "cell_type": "code",
      "metadata": {
        "colab": {
          "base_uri": "https://localhost:8080/",
          "height": 291
        },
        "id": "EBFF1MCYfiVS",
        "outputId": "c4e919a1-ff97-49e6-800f-a13163861869"
      },
      "source": [
        "#properties es una lista de objetos:'RegionProperties', cada uno es una celula, tiene los atributos de la celula\n",
        "properties_areas=[]\n",
        "[properties_areas.append(propertie.area) for propertie in properties]\n",
        "#'''\n",
        "plt.figure(figsize=(9, 3))\n",
        "plt.hist(properties_areas)\n",
        "plt.show() #dibujamos el histograma\n",
        "#'''\n",
        "#print(properties_areas)"
      ],
      "execution_count": 51,
      "outputs": [
        {
          "output_type": "display_data",
          "data": {
            "image/png": "[encoded data removed]",
            "text/plain": [
              "<Figure size 900x300 with 1 Axes>"
            ]
          },
          "metadata": {}
        }
      ]
    },
    {
      "cell_type": "code",
      "metadata": {
        "colab": {
          "base_uri": "https://localhost:8080/",
          "height": 291
        },
        "id": "VwqhKP28kUVX",
        "outputId": "6b8c017c-1f11-468e-bf3b-a29c22d264fb"
      },
      "source": [
        "umbral_area = 200\n",
        "properties_areas=[]\n",
        "[properties_areas.append(propertie.area) for propertie in properties if propertie.area>umbral_area]\n",
        "#'''\n",
        "plt.figure(figsize=(9, 3))#<--- forma mas clara de hacer graficos\n",
        "plt.hist(properties_areas)\n",
        "plt.show() #dibujamos el histograma\n",
        "#'''\n",
        "#print(properties_areas)"
      ],
      "execution_count": 52,
      "outputs": [
        {
          "output_type": "display_data",
          "data": {
            "image/png": "[encoded data removed]",
            "text/plain": [
              "<Figure size 900x300 with 1 Axes>"
            ]
          },
          "metadata": {}
        }
      ]
    },
    {
      "cell_type": "markdown",
      "metadata": {
        "id": "rqGgqVdAlXIV"
      },
      "source": [
        "conclusion: 200 es un buen umbral para el area de las propeties"
      ]
    },
    {
      "cell_type": "code",
      "metadata": {
        "colab": {
          "base_uri": "https://localhost:8080/"
        },
        "id": "U3H4mbeylMrf",
        "outputId": "e7906f2d-db16-4450-beab-c945c15e7a1e"
      },
      "source": [
        "#encontrar los paths de las imagenes H y DAB\n",
        "base_path_H = \"/content/gdrive/MyDrive/memoria/jueves22/canalH/\"\n",
        "base_path_DAB = \"/content/gdrive/MyDrive/memoria/jueves22/canalDAB/\"\n",
        "\n",
        "canalH_paths=[]\n",
        "canalDAB_paths=[]\n",
        "[canalH_paths.append(img_path) for img_path in os.listdir(base_path_H)]\n",
        "[canalDAB_paths.append(img_path) for img_path in os.listdir(base_path_DAB)]\n",
        "\n",
        "canalH_paths = sort_especial(canalH_paths)#despues aplicar lo de hacerlo en forma de funcion que modifique el orden de la lista\n",
        "canalDAB_paths = sort_especial(canalDAB_paths)\n",
        "print(canalH_paths)\n",
        "print(canalDAB_paths)"
      ],
      "execution_count": 53,
      "outputs": [
        {
          "output_type": "stream",
          "name": "stdout",
          "text": [
            "['ejemplo_x40_z0_a0_clase_3+.png-H.tif', 'ejemplo_x40_z0_a1_clase_2+.png-H.tif', 'ejemplo_x40_z0_a2_clase_0.png-H.tif', 'ejemplo_x40_z0_a3_clase_3+.png-H.tif', 'ejemplo_x40_z0_a4_clase_0.png-H.tif', 'ejemplo_x40_z0_a5_clase_0.png-H.tif', 'ejemplo_x40_z0_a6_clase_no-tumor.png-H.tif', 'ejemplo_x40_z0_a7_clase_no-tumor.png-H.tif', 'ejemplo_x40_z0_a8_clase_no-tumor.png-H.tif', 'ejemplo_x40_z0_a9_clase_0.png-H.tif', 'ejemplo_x40_z0_a10_clase_2+.png-H.tif', 'ejemplo_x40_z0_a11_clase_2+.png-H.tif', 'ejemplo_x40_z0_a12_clase_2+.png-H.tif', 'ejemplo_x40_z0_a13_clase_1+.png-H.tif', 'ejemplo_x40_z0_a14_clase_2+.png-H.tif']\n",
            "['ejemplo_x40_z0_a0_clase_3+.png-DAB.tif', 'ejemplo_x40_z0_a1_clase_2+.png-DAB.tif', 'ejemplo_x40_z0_a2_clase_0.png-DAB.tif', 'ejemplo_x40_z0_a3_clase_3+.png-DAB.tif', 'ejemplo_x40_z0_a4_clase_0.png-DAB.tif', 'ejemplo_x40_z0_a5_clase_0.png-DAB.tif', 'ejemplo_x40_z0_a6_clase_no-tumor.png-DAB.tif', 'ejemplo_x40_z0_a7_clase_no-tumor.png-DAB.tif', 'ejemplo_x40_z0_a8_clase_no-tumor.png-DAB.tif', 'ejemplo_x40_z0_a9_clase_0.png-DAB.tif', 'ejemplo_x40_z0_a10_clase_2+.png-DAB.tif', 'ejemplo_x40_z0_a11_clase_2+.png-DAB.tif', 'ejemplo_x40_z0_a12_clase_2+.png-DAB.tif', 'ejemplo_x40_z0_a13_clase_1+.png-DAB.tif', 'ejemplo_x40_z0_a14_clase_2+.png-DAB.tif']\n"
          ]
        }
      ]
    },
    {
      "cell_type": "code",
      "metadata": {
        "id": "8gA0WX1zm8_s"
      },
      "source": [
        "def juntar_paths_H_y_DAB(canalH_paths,canalDAB_paths):\n",
        "    paths_HDAB=[]\n",
        "    for i in range(len(canalH_paths)):\n",
        "        aux=[]\n",
        "        aux.append(canalH_paths[i])\n",
        "        aux.append(canalDAB_paths[i])\n",
        "        paths_HDAB.append(aux)\n",
        "    return paths_HDAB\n",
        "\n",
        "def or_masks(boolean_mask1, boolean_mask2):\n",
        "    if boolean_mask1.shape != boolean_mask2.shape:\n",
        "        raise Exception('boolean_mask1 y boolean_mask2 deben tener la misma dimension')\n",
        "    boolean_mask_result = np.full_like(boolean_mask1, fill_value = False, dtype=bool)#crea un numpy array lleno con False de dimensiones iguales a boolean_mask1\n",
        "    for i in range(boolean_mask1.shape[1]):\n",
        "        for j in range(boolean_mask1.shape[0]):\n",
        "            if boolean_mask1[i,j]==True or boolean_mask2[i,j]==True:\n",
        "                boolean_mask_result[i,j]=True\n",
        "    return boolean_mask_result \n",
        "\n",
        "def reconstruir_mask(lado_parche,list_propertie):#recontruye la maskara con todas las celulas a partir de la lista de objetos properties\n",
        "    mask = np.full((lado_parche, lado_parche),False, dtype= bool)\n",
        "    for propertie in list_propertie:\n",
        "        for coord in propertie.coords:\n",
        "            i = coord[0]\n",
        "            j = coord[1] \n",
        "            mask[i,j] = True\n",
        "    return mask"
      ],
      "execution_count": 54,
      "outputs": []
    },
    {
      "cell_type": "markdown",
      "metadata": {
        "id": "7_QstgVvT34r"
      },
      "source": [
        "###Determinacion umbral area minima y maxima"
      ]
    },
    {
      "cell_type": "code",
      "metadata": {
        "id": "3hvDoA1z6f5X"
      },
      "source": [
        "base_path_H = \"/content/gdrive/MyDrive/memoria/jueves22/canalH/\"\n",
        "base_path_DAB = \"/content/gdrive/MyDrive/memoria/jueves22/canalDAB/\"\n",
        "paths_HDAB = juntar_paths_H_y_DAB(canalH_paths,canalDAB_paths)\n",
        "HDAB=[]\n",
        "H_features=[]\n",
        "lista_properties=[]\n",
        "\n",
        "path_H = paths_HDAB[0][0]\n",
        "path_DAB = paths_HDAB[0][1]\n",
        "\n",
        "image_H = io.imread(base_path_H+path_H)\n",
        "threshold_H = filters.threshold_otsu(image_H)#tiene que entrar un gray scale a otsu\n",
        "img_H_binary = image_H<threshold_H\n",
        "\n",
        "image_DAB = io.imread(base_path_DAB+path_DAB)\n",
        "threshold_DAB = filters.threshold_otsu(image_DAB)#tiene que entrar un gray scale a otsu\n",
        "img_DAB_binary = image_DAB<threshold_DAB\n",
        "\n",
        "\n",
        "img_binary_merged = or_masks(img_H_binary, img_DAB_binary)\n",
        "\n",
        "all_labels = measure.label(img_binary_merged, background=0)\n",
        "properties = measure.regionprops(all_labels)\n",
        "#filtro por area minima de 250\n",
        "umbral_area_celula_minima=250\n",
        "lista_properties_filtrada=[propertie for propertie in properties if propertie.area > 250 ]\n",
        "\n",
        "#propertie_cords2mask(lado_parche,propertie_cords)\n",
        "#lado_parche = image_H.shape[0]\n",
        "#mask_merged_filtered = reconstruir_mask(lado_parche, lista_properties_filtrada)"
      ],
      "execution_count": 55,
      "outputs": []
    },
    {
      "cell_type": "code",
      "metadata": {
        "colab": {
          "base_uri": "https://localhost:8080/",
          "height": 444
        },
        "id": "ihTVObiPeLH7",
        "outputId": "89b32ac4-d136-4e63-fe2e-2ac91b770a02"
      },
      "source": [
        "umbral_area = 250\n",
        "properties_areas=[propertie.area for propertie in properties if propertie.area>umbral_area]\n",
        "#'''\n",
        "plt.figure(figsize=(9, 3))#<--- forma mas clara de hacer graficos\n",
        "plt.hist(properties_areas, bins=np.arange(0,1000,50))\n",
        "plt.show() #dibujamos el histograma\n",
        "#'''\n",
        "#print(properties_areas)\n",
        "import pandas as pd\n",
        "pd.Series(properties_areas).describe()"
      ],
      "execution_count": 56,
      "outputs": [
        {
          "output_type": "display_data",
          "data": {
            "image/png": "[encoded data removed]",
            "text/plain": [
              "<Figure size 900x300 with 1 Axes>"
            ]
          },
          "metadata": {}
        },
        {
          "output_type": "execute_result",
          "data": {
            "text/plain": [
              "count       84.000000\n",
              "mean      1963.428571\n",
              "std       4351.918891\n",
              "min        255.000000\n",
              "25%        462.250000\n",
              "50%        734.000000\n",
              "75%       1507.750000\n",
              "max      31691.000000\n",
              "dtype: float64"
            ]
          },
          "metadata": {},
          "execution_count": 56
        }
      ]
    },
    {
      "cell_type": "code",
      "metadata": {
        "colab": {
          "base_uri": "https://localhost:8080/",
          "height": 229
        },
        "id": "ye_jqZJa7nk0",
        "outputId": "eb7d7990-b876-46df-b333-242f58f98e0c"
      },
      "source": [
        "fig, (ax1, ax2, ax3) = plt.subplots(1, 3)\n",
        "ax1.imshow(img_H_binary,cmap='gray')\n",
        "ax2.imshow(img_DAB_binary,cmap='gray')\n",
        "ax3.imshow(img_binary_merged,cmap='gray')"
      ],
      "execution_count": 57,
      "outputs": [
        {
          "output_type": "execute_result",
          "data": {
            "text/plain": [
              "<matplotlib.image.AxesImage at 0x7fd4b48eb7d0>"
            ]
          },
          "metadata": {},
          "execution_count": 57
        },
        {
          "output_type": "display_data",
          "data": {
            "image/png": "[encoded data removed]",
            "text/plain": [
              "<Figure size 640x480 with 3 Axes>"
            ]
          },
          "metadata": {}
        }
      ]
    },
    {
      "cell_type": "markdown",
      "metadata": {
        "id": "w32wMy3bHPxj"
      },
      "source": [
        "#Feature extracion - resultado: HDAB"
      ]
    },
    {
      "cell_type": "code",
      "metadata": {
        "colab": {
          "base_uri": "https://localhost:8080/"
        },
        "id": "Yr2jksLa87sW",
        "outputId": "0dc3ff5b-4763-4a1b-eb73-68aae16fdb86"
      },
      "source": [
        "from skimage.color import rgb2gray\n",
        "from skimage import data, filters, measure, morphology, io\n",
        "base_path_H = \"/content/gdrive/MyDrive/memoria/jueves22/canalH/\"\n",
        "base_path_DAB = \"/content/gdrive/MyDrive/memoria/jueves22/canalDAB/\"\n",
        "paths_HDAB = juntar_paths_H_y_DAB(canalH_paths,canalDAB_paths)\n",
        "HDAB=[]\n",
        "H_features=[]\n",
        "DAB_features=[]\n",
        "\n",
        "lista_properties=[]\n",
        "\n",
        "for path_HDAB in tqdm(paths_HDAB):#las imagenes de la carpeta canal_H ya estan en gray scale\n",
        "    path_H = path_HDAB[0]\n",
        "    path_DAB = path_HDAB[1]\n",
        "    \n",
        "    image_H = io.imread(base_path_H+path_H)\n",
        "    threshold_H = filters.threshold_otsu(image_H)#tiene que entrar un gray scale a otsu\n",
        "    img_H_binary = image_H<threshold_H\n",
        "    image_DAB = io.imread(base_path_DAB+path_DAB)\n",
        "    threshold_DAB = filters.threshold_otsu(image_DAB)#tiene que entrar un gray scale a otsu\n",
        "    img_DAB_binary = image_DAB<threshold_DAB\n",
        "    img_binary_merged = or_masks(img_H_binary, img_DAB_binary)\n",
        "    \n",
        "    all_labels = measure.label(img_binary_merged, background=0)\n",
        "    properties_anotacion = measure.regionprops(all_labels)\n",
        "    #filtro por area minima y maxima (de 250 y 1000)\n",
        "    umbral_area_celula_minima = 250\n",
        "    umbral_area_celula_maxima = 1250 \n",
        "    lista_properties_filtrada = [propertie for propertie in properties_anotacion if propertie.area > umbral_area_celula_minima and propertie.area < umbral_area_celula_maxima]\n",
        "    ###########################################################\n",
        "    lista_properties.append(lista_properties_filtrada)#es para un proceso externo de guardar las propeties sacadas para cadda anotacion considerando los dos canales\n",
        "    ###########################################################\n",
        "    H_anotation=[]\n",
        "    DAB_anotation=[]\n",
        "\n",
        "    for celula_propertie in properties_anotacion:\n",
        "            radio_condicion = 5#para que tenga sentido tiene que se menor que sqrt(area_minima/p1), para 250, menor a 9\n",
        "            #skimage guardas imagenes en y,x es decir el shape[0] da la medicion de y, y el shape[1] da la de x\n",
        "            y_centroid = int(celula_propertie.centroid[0])\n",
        "            x_centroid = int(celula_propertie.centroid[1])\n",
        "            for coord in celula_propertie.coords:\n",
        "                y_coord = coord[0]\n",
        "                x_coord = coord[1]\n",
        "                a = (y_centroid-y_coord)**2+(x_centroid-x_coord)**2\n",
        "                if a < radio_condicion**2:#si la coordenada esta dentro del radio\n",
        "                    H_anotation.append( image_H[coord[1],coord[0]] )#el canal H y el DAB esta siendo leido en ByN \n",
        "                    DAB_anotation.append( image_DAB[coord[1],coord[0]] )\n",
        "    H_features.append(H_anotation)\n",
        "    DAB_features.append(DAB_anotation)        \n",
        "        \n",
        "HDAB.append(H_features)  \n",
        "HDAB.append(DAB_features)    \n",
        "\n",
        "#############################################################\n",
        "#agregando tercera componenete con colores\n",
        "\n",
        "clases_roi=[]\n",
        "[clases_roi.append(img_path.split('_')[5].split('.')[0]) for img_path in canalH_paths]\n",
        "colores_roi = transformacion_clase2color(clases_roi)\n",
        "HDAB.append(colores_roi)   \n",
        "HDAB.append(clases_roi) \n",
        "#'''\n"
      ],
      "execution_count": 58,
      "outputs": [
        {
          "output_type": "stream",
          "name": "stderr",
          "text": [
            "100%|██████████| 15/15 [01:34<00:00,  6.33s/it]\n"
          ]
        }
      ]
    },
    {
      "cell_type": "markdown",
      "metadata": {
        "id": "jls2CcXmGoh4"
      },
      "source": [
        "## Scatter plot"
      ]
    },
    {
      "cell_type": "markdown",
      "metadata": {
        "id": "Ok-SnSr9aG7K"
      },
      "source": [
        "Graficos tienen una linea en 190 porque se binariza con la mascara del canal H y el umbral es en torno als 200"
      ]
    },
    {
      "cell_type": "code",
      "metadata": {
        "colab": {
          "base_uri": "https://localhost:8080/",
          "height": 34
        },
        "id": "atz7qR-wGfh6",
        "outputId": "f4a5ec27-cdca-4671-c16d-9a651d52d90a"
      },
      "source": [
        "plt.rcParams['axes.labelsize']=50\n",
        "plt.rcParams['xtick.labelsize']=40    #tamaño de los numeros del eje X\n",
        "plt.rcParams['ytick.labelsize']=40    #tamaño de los numeros del eje Y\n",
        "plt.rcParams['xtick.color']='magenta'        #color numenos eje X\n",
        "plt.rcParams['ytick.color']='magenta'      #color numenos eje Y\n",
        "plt.rcParams['axes.labelcolor']='magenta'  #color de los nombres de los ejes\n",
        "plt.rcParams['axes.grid']=True            #por defecto, printear la grilla\n",
        "#vizualizacion\n",
        "\n",
        "import pandas as pd\n",
        "import matplotlib.pyplot as plt       \n",
        "\n",
        "plt.clf()\n",
        "fig, ax = plt.subplots(figsize=(40,40))\n",
        "ax.set(xlim=(0, 255), ylim=(0, 255))\n",
        "\n",
        "try:#cada ax.scatter plotea los pixeles de una anotacion)\n",
        "\n",
        "    plt.text(10, 150, 'clase 3+ en magenta',fontsize=40, color='m')\n",
        "    ax.scatter(HDAB[0][0] , HDAB[1][0], color= HDAB[2][0] )#clase: 3+ MAGENTA\n",
        "    ax.scatter(HDAB[0][3] , HDAB[1][3], color= HDAB[2][3] )#clase: 3+ MAGENTA\n",
        "    \n",
        "    plt.text(10, 140, 'clase 2+ en azul',fontsize=40, color='b')\n",
        "    ax.scatter(HDAB[0][1] , HDAB[1][1], color= HDAB[2][1] )#clase: 2+ AZUL\n",
        "    ax.scatter(HDAB[0][10] , HDAB[1][10], color= HDAB[2][10] )#clase: 2+ AZUL\n",
        "    ax.scatter(HDAB[0][11] , HDAB[1][11], color= HDAB[2][11] )#clase: 2+ AZUL\n",
        "    ax.scatter(HDAB[0][12] , HDAB[1][12], color= HDAB[2][12] )#clase: 2+ AZUL\n",
        "    ax.scatter(HDAB[0][14] , HDAB[1][14], color= HDAB[2][14] )#clase: 2+ AZUL\n",
        "\n",
        "    plt.text(10, 130, 'clase 1+ en rojo',fontsize=40, color='r') \n",
        "    ax.scatter(HDAB[0][13] , HDAB[1][13], color= HDAB[2][13] )#clase: 1+ ROJO\n",
        "    \n",
        "    plt.text(10, 120, 'clase 0+ en amarillo',fontsize=40, color='y') \n",
        "    ax.scatter(HDAB[0][2] , HDAB[1][2], color= HDAB[2][2] )#clase: 0 VERDE (O AMARILLO)\n",
        "    ax.scatter(HDAB[0][4] , HDAB[1][4], color= HDAB[2][4] )#clase: 0 VERDE (O AMARILLO)\n",
        "    ax.scatter(HDAB[0][5] , HDAB[1][5], color= HDAB[2][5] )#clase: 0 VERDE (O AMARILLO)\n",
        "    ax.scatter(HDAB[0][9] , HDAB[1][9], color= HDAB[2][9] )#clase: 0 VERDE (O AMARILLO)\n",
        "    \n",
        "    plt.text(10, 110, 'clase no_tumor en negro',fontsize=40, color='k') \n",
        "    ax.scatter(HDAB[0][6] , HDAB[1][6], color= HDAB[2][6] )#clase: no_tumor NEGRO \n",
        "    ax.scatter(HDAB[0][7] , HDAB[1][7], color= HDAB[2][7] )#clase: no_tumor NEGRO\n",
        "    ax.scatter(HDAB[0][8] , HDAB[1][8], color= HDAB[2][8] )#clase: no_tumor NEGRO\n",
        "    \n",
        "\n",
        "except:\n",
        "    pass\n",
        "#legend1 = ax.legend(*scatter.legend_elements(), loc=\"lower left\", title=\"clases\")\n",
        "#ax.add_artist(legend1)\n",
        "\n",
        "ax.set_xlabel('Hematoxilina H (0-255)')\n",
        "ax.set_ylabel('DAB Diaminobencidina (0-255)')\n",
        "plt.show()\n",
        "plt.style.use('default')"
      ],
      "execution_count": null,
      "outputs": [
        {
          "output_type": "display_data",
          "data": {
            "text/plain": [
              "<Figure size 640x480 with 0 Axes>"
            ]
          },
          "metadata": {}
        }
      ]
    },
    {
      "cell_type": "markdown",
      "metadata": {
        "id": "RKawVD_IbFqR"
      },
      "source": [
        "#Clasificacion"
      ]
    },
    {
      "cell_type": "markdown",
      "metadata": {
        "id": "swacYE7kJnOi"
      },
      "source": [
        "##Construyendo el modelo Kmeans"
      ]
    },
    {
      "cell_type": "markdown",
      "metadata": {
        "id": "VhBy1qxllX5Q"
      },
      "source": [
        "### Calculando los centroides"
      ]
    },
    {
      "cell_type": "code",
      "metadata": {
        "id": "OGtU3IGCmoBh"
      },
      "source": [
        "def get_indexacion(lista_clases, clase):#la clase debe entrar como string\n",
        "    indices_aparicion = []\n",
        "    n_apariciones = lista_clases.count(clase)\n",
        "    c = 0\n",
        "    partida_busqueda=0\n",
        "    while c < n_apariciones:\n",
        "        indice = lista_clases.index(clase,partida_busqueda)\n",
        "        partida_busqueda=indice+1\n",
        "        indices_aparicion.append(indice)\n",
        "        c+=1\n",
        "    return indices_aparicion\n"
      ],
      "execution_count": null,
      "outputs": []
    },
    {
      "cell_type": "code",
      "metadata": {
        "id": "_4CtZ9vUdNLR"
      },
      "source": [
        "#calculando los centroides de las clases\n",
        "import numpy as np\n",
        "centroides=[]#largo 5 porque son 5 clases\n",
        "\n",
        "indexacion_clase_anotacion=[]\n",
        "[indexacion_clase_anotacion.append(img_path.split('_')[5].split('.')[0]) for img_path in canalH_paths]\n",
        "\n",
        "indices_clase_no_tumor = get_indexacion(indexacion_clase_anotacion,'no-tumor')\n",
        "indices_clase_0 = get_indexacion(indexacion_clase_anotacion,'0')\n",
        "indices_clase_1 = get_indexacion(indexacion_clase_anotacion,'1+')\n",
        "indices_clase_2 = get_indexacion(indexacion_clase_anotacion,'2+')\n",
        "indices_clase_3 = get_indexacion(indexacion_clase_anotacion,'3+')\n",
        "\n",
        "#colors = HDAB.pop(2)#elminar la ultima lista que tiene los colores de las clases\n",
        "\n",
        "H_feat=HDAB[0]\n",
        "DAB_feat=HDAB[1]\n",
        "mean_H_feat=[]\n",
        "mean_DAB_feat=[]\n",
        "[mean_H_feat.append(sum(l)/len(l)) for l in H_feat]\n",
        "[mean_DAB_feat.append(sum(l)/len(l)) for l in DAB_feat]\n",
        "\n",
        "\n",
        "#'''\n",
        "H_means_clase_no_tumor=[mean_H_feat[i] for i in indices_clase_no_tumor]#las listas son mutables\n",
        "#www.freecodecamp.org/espanol/news/explicacion-de-las-listas-de-python-comprension-de-len-pop-index-y-list-comprehension\n",
        "H_means_clase_0=[mean_H_feat[i] for i in indices_clase_0]\n",
        "H_means_clase_1=[mean_H_feat[i] for i in indices_clase_1]\n",
        "H_means_clase_2=[mean_H_feat[i] for i in indices_clase_2]\n",
        "H_means_clase_3=[mean_H_feat[i] for i in indices_clase_3]\n",
        "\n",
        "DAB_means_clase_no_tumor=[mean_DAB_feat[i] for i in indices_clase_no_tumor]#las listas son mutables\n",
        "DAB_means_clase_0=[mean_DAB_feat[i] for i in indices_clase_0]\n",
        "DAB_means_clase_1=[mean_DAB_feat[i] for i in indices_clase_1]\n",
        "DAB_means_clase_2=[mean_DAB_feat[i] for i in indices_clase_2]\n",
        "DAB_means_clase_3=[mean_DAB_feat[i] for i in indices_clase_3]\n",
        "\n",
        "H_mean_clase_no_tumor = int(sum(H_means_clase_no_tumor)/len(H_means_clase_no_tumor))\n",
        "H_mean_clase_0 = int(sum(H_means_clase_0)/len(H_means_clase_0))\n",
        "H_mean_clase_1 = int(sum(H_means_clase_1)/len(H_means_clase_1))\n",
        "H_mean_clase_2 = int(sum(H_means_clase_2)/len(H_means_clase_2))\n",
        "H_mean_clase_3 = int(sum(H_means_clase_3)/len(H_means_clase_3))\n",
        "\n",
        "DAB_mean_clase_no_tumor = int(sum(DAB_means_clase_no_tumor)/len(DAB_means_clase_no_tumor))\n",
        "DAB_mean_clase_0 = int(sum(DAB_means_clase_0)/len(DAB_means_clase_0))\n",
        "DAB_mean_clase_1 = int(sum(DAB_means_clase_1)/len(DAB_means_clase_1))\n",
        "DAB_mean_clase_2 = int(sum(DAB_means_clase_2)/len(DAB_means_clase_2))\n",
        "DAB_mean_clase_3 = int(sum(DAB_means_clase_3)/len(DAB_means_clase_3))\n",
        "\n",
        "centroide_clase_no_tumor=[H_mean_clase_no_tumor,DAB_mean_clase_no_tumor]\n",
        "centroide_clase_0=[H_mean_clase_0,DAB_mean_clase_0]\n",
        "centroide_clase_1=[H_mean_clase_1,DAB_mean_clase_1]\n",
        "centroide_clase_2=[H_mean_clase_2,DAB_mean_clase_2]\n",
        "centroide_clase_3=[H_mean_clase_3,DAB_mean_clase_3]\n",
        "\n",
        "centroides.append(centroide_clase_no_tumor)\n",
        "centroides.append(centroide_clase_0)\n",
        "centroides.append(centroide_clase_1)\n",
        "centroides.append(centroide_clase_2)\n",
        "centroides.append(centroide_clase_3)\n",
        "print(centroides)\n"
      ],
      "execution_count": null,
      "outputs": []
    },
    {
      "cell_type": "code",
      "metadata": {
        "id": "joSc523nqbWd"
      },
      "source": [
        "plt.rcParams['axes.labelsize']=50\n",
        "plt.rcParams['xtick.labelsize']=40    #tamaño de los numeros del eje X\n",
        "plt.rcParams['ytick.labelsize']=40    #tamaño de los numeros del eje Y\n",
        "plt.rcParams['xtick.color']='magenta'        #color numenos eje X\n",
        "plt.rcParams['ytick.color']='magenta'      #color numenos eje Y\n",
        "plt.rcParams['axes.labelcolor']='magenta'  #color de los nombres de los ejes\n",
        "plt.rcParams['axes.grid']=True            #por defecto, printear la grilla\n",
        "#vizualizacion\n",
        "\n",
        "import pandas as pd\n",
        "import matplotlib.pyplot as plt       \n",
        "\n",
        "plt.clf()\n",
        "fig, ax = plt.subplots(figsize=(40,40))\n",
        "ax.set(xlim=(0, 255), ylim=(0, 255))\n",
        "\n",
        "try:#cada ax.scatter plotea los pixeles de una anotacion\n",
        "    plt.text(10, 150, 'clase 3+ en magenta',fontsize=40, color='m')\n",
        "    #ax.scatter(HDAB[0][0] , HDAB[1][0], color= HDAB[2][0] )#clase: 3+ MAGENTA\n",
        "    #ax.scatter(HDAB[0][3] , HDAB[1][3], color= HDAB[2][3] )#clase: 3+ MAGENTA\n",
        "    plt.scatter(centroide_clase_3[0], centroide_clase_3[1], s=1000, marker='^', c='m')\n",
        "\n",
        "\n",
        "    plt.text(10, 140, 'clase 2+ en azul',fontsize=40, color='b')\n",
        "    #ax.scatter(HDAB[0][1] , HDAB[1][1], color= HDAB[2][1] )#clase: 2+ AZUL\n",
        "    #ax.scatter(HDAB[0][10] , HDAB[1][10], color= HDAB[2][10] )#clase: 2+ AZUL\n",
        "    #ax.scatter(HDAB[0][11] , HDAB[1][11], color= HDAB[2][11] )#clase: 2+ AZUL\n",
        "    #ax.scatter(HDAB[0][12] , HDAB[1][12], color= HDAB[2][12] )#clase: 2+ AZUL\n",
        "    #ax.scatter(HDAB[0][14] , HDAB[1][14], color= HDAB[2][14] )#clase: 2+ AZUL\n",
        "    plt.scatter(centroide_clase_2[0], centroide_clase_2[1], s=1000, marker='^', c='b')\n",
        "\n",
        "    plt.text(10, 130, 'clase 1+ en rojo',fontsize=40, color='r') \n",
        "    #ax.scatter(HDAB[0][13] , HDAB[1][13], color= HDAB[2][13] )#clase: 1+ ROJO\n",
        "    plt.scatter(centroide_clase_1[0], centroide_clase_1[1], s=1000, marker='^', c='r')\n",
        "\n",
        "    plt.text(10, 120, 'clase 0+ en amarillo',fontsize=40, color='y') \n",
        "    #ax.scatter(HDAB[0][2] , HDAB[1][2], color= HDAB[2][2] )#clase: 0 amarillo (o verde)\n",
        "    #ax.scatter(HDAB[0][4] , HDAB[1][4], color= HDAB[2][4] )#clase: 0 amarillo (o verde)\n",
        "    #ax.scatter(HDAB[0][5] , HDAB[1][5], color= HDAB[2][5] )#clase: 0 amarillo (o verde)\n",
        "    #ax.scatter(HDAB[0][9] , HDAB[1][9], color= HDAB[2][9] )#clase: 0 amarillo (o verde)\n",
        "    plt.scatter(centroide_clase_0[0], centroide_clase_0[1], s=1000, marker='^', c='y')\n",
        "\n",
        "    plt.text(10, 110, 'clase no_tumor en negro',fontsize=40, color='k') \n",
        "    #ax.scatter(HDAB[0][6] , HDAB[1][6], color= HDAB[2][6] )#clase: no_tumor NEGRO \n",
        "    #ax.scatter(HDAB[0][7] , HDAB[1][7], color= HDAB[2][7] )#clase: no_tumor NEGRO\n",
        "    #ax.scatter(HDAB[0][8] , HDAB[1][8], color= HDAB[2][8] )#clase: no_tumor NEGRO\n",
        "    plt.scatter(centroide_clase_no_tumor[0], centroide_clase_no_tumor[1], s=1000, marker='^', c='k')\n",
        "except:\n",
        "    pass\n",
        "#legend1 = ax.legend(*scatter.legend_elements(), loc=\"lower left\", title=\"clases\")\n",
        "#ax.add_artist(legend1)\n",
        "\n",
        "ax.set_xlabel('Hematoxilina H (0-255)')\n",
        "ax.set_ylabel('DAB Diaminobencidina (0-255)')\n",
        "plt.show()"
      ],
      "execution_count": null,
      "outputs": []
    },
    {
      "cell_type": "markdown",
      "metadata": {
        "id": "Dk5ju5DQ7gTh"
      },
      "source": [
        "###Clasificando los pixeles de las roi"
      ]
    },
    {
      "cell_type": "code",
      "metadata": {
        "id": "bp4bnLhZu35D"
      },
      "source": [
        "from math import sqrt\n",
        "def clasificar_muestra(centroides,muestra_HDAB):\n",
        "    clase=['0','1+','2+','3+','no-tumor']\n",
        "    distancias_muestraHDAB_centroides=[]\n",
        "    for centroide in centroides:\n",
        "        d = math.sqrt((centroide[0]-muestra_HDAB[0])**2+(centroide[1]-muestra_HDAB[1])**2)\n",
        "        distancias_muestraHDAB_centroides.append(d)\n",
        "    index_min = distancias_muestraHDAB_centroides.index(min(distancias_muestraHDAB_centroides))\n",
        "    prediccion_clase = clase[index_min]\n",
        "    #print('prediccion_clase para muestra = ', prediccion_clase)\n",
        "    #print('con distancia:',min(distancias_muestraHDAB_centroides))\n",
        "    #print('-----------------------------------------------------')\n",
        "    return prediccion_clase\n",
        "\n",
        "def clase2intnumber_encoding(clase):\n",
        "    mapeo_clase2numero = {'0':int(0),\n",
        "                          '1+':int(1), \n",
        "                          '2+':int(2),\n",
        "                          '3+':int(3),               \n",
        "                          'no-tumor':int(4)\n",
        "                        } \n",
        "    intnumber = mapeo_clase2numero[clase]\n",
        "    return intnumber    \n",
        "\n",
        "def intnumber2rgbcolor_encoding(intnumber):#al final esta no se va a usar\n",
        "    mapeo_intnumber2rgbcolor = {int(0): (255, 0, 255),#clase 0\n",
        "                                int(1): (0, 0, 255),#clase 1\n",
        "                                int(2): (255, 0, 0),#clase 2\n",
        "                                int(3): (255, 255, 0),#clase 3         \n",
        "                                int(4): (0, 0, 0)#clase no-tumor\n",
        "                                } \n",
        "    rgbcolor = mapeo_intnumber2rgbcolor[intnumber]\n",
        "    return rgbcolor    \n",
        "\n",
        "def clase2rgbcolor_encoding(clase):\n",
        "    mapeo_clase2rgbcolor = {'0': (255, 0, 255),#clase 0 verde\n",
        "                            '1+': (0, 0, 255),#clase 1 rojo\n",
        "                            '2+': (255, 0, 0),#clase 2 azul\n",
        "                            '3+': (255, 255, 0),#clase 3 magenta        \n",
        "                            'no-tumor': (0, 0, 0)#clase no-tumor\n",
        "                            } \n",
        "    rgbcolor_tuple = mapeo_clase2rgbcolor[clase]\n",
        "    return rgbcolor_tuple\n"
      ],
      "execution_count": null,
      "outputs": []
    },
    {
      "cell_type": "code",
      "metadata": {
        "id": "LZHXDu8sZJbB"
      },
      "source": [
        "def juntar_paths_H_y_DAB(canalH_paths,canalDAB_paths):\n",
        "    paths_HDAB=[]\n",
        "    for i in range(len(canalH_paths)):\n",
        "        aux=[]\n",
        "        aux.append(canalH_paths[i])\n",
        "        aux.append(canalDAB_paths[i])\n",
        "        paths_HDAB.append(aux)\n",
        "    return paths_HDAB\n",
        "\n",
        "paths_HDAB = juntar_paths_H_y_DAB(canalH_paths,canalDAB_paths)"
      ],
      "execution_count": null,
      "outputs": []
    },
    {
      "cell_type": "markdown",
      "metadata": {
        "id": "91gpoMe2VJJg"
      },
      "source": [
        "##Clasificando\n",
        "entra HDAB y path y sale una lista con maskaras, una por cada anitacion, cada pixel de ellas tiene valores de 0 (clase no-tumor) a 5 (clase 3+)"
      ]
    },
    {
      "cell_type": "markdown",
      "metadata": {
        "id": "IeyvNX2i9k3B"
      },
      "source": [
        "###Clasificación por clase mayoritaria en celula\n",
        "\n",
        "entra la lista con las properties que se sacaron de las mascaras H y DAB ya mergeadas."
      ]
    },
    {
      "cell_type": "code",
      "metadata": {
        "id": "Boqp7x9DoAY9"
      },
      "source": [
        "#prediccion como tal:\n",
        "from skimage.color import rgb2gray\n",
        "from skimage import data, filters, measure, morphology, io\n",
        "import pandas as pd\n",
        "lista_predicted_img_mask=[]\n",
        "lista_predicted_img_mask_class=[]\n",
        "aux_index_lista_properties = 0\n",
        "for paths in tqdm(paths_HDAB):\n",
        "\n",
        "    image_H = io.imread(base_path_H+paths[0])\n",
        "    image_DAB = io.imread(base_path_DAB+paths[1])#paths[1] son los paths de las imgenes DAB\n",
        "    \n",
        "    #creamos una mascara de zeros con la misma dimension que la imagen\n",
        "    #predicted_img_mask = np.zeros_like(image_H)\n",
        "    mask_shape = (image_H.shape[0],image_H.shape[1],3)\n",
        "    predicted_img_mask = np.full(shape = mask_shape, fill_value=0, dtype=np.int)\n",
        "    predicted_img_mask_class= np.full(shape = (image_H.shape[0],image_H.shape[1]), fill_value=0, dtype=np.int)\n",
        "  \n",
        "    for celula_propertie in lista_properties[aux_index_lista_properties]:\n",
        "            #creamos un objeto Series de pandas, como indice tiene los nombres de las clases y como info puros ceros que representan los votos\n",
        "            votos_clases_en_celula = pd.Series([0, 0, 0, 0, 0], index = ['no-tumor', '0', '1+', '2+','3+'])\n",
        "            for coord in celula_propertie.coords:\n",
        "                muestra_HDAB = ( image_H[coord[1],coord[0]] , image_DAB[coord[1],coord[0]] )\n",
        "                prediccion_clase = clasificar_muestra(centroides,muestra_HDAB)#prediccion_clase es un str puede ser 'no-tumor','0+','1+','2+' o '3+']\n",
        "                #en caso de error revizar opencv leen en bgr y no en rgb\n",
        "                votos_clases_en_celula[prediccion_clase] +=1#esto suma 1 voto a la clase correspondiente\n",
        "            clase_mas_votos_celula = votos_clases_en_celula.idxmax()#idxmax es una funcion de pandas retorna el indice de entre los valores(informacion) que tenda mayor valor    \n",
        "            \n",
        "            for coord in celula_propertie.coords:#pintar toda la celula del mismo color de la clase mayoritaria\n",
        "                #indices tiene que ir especificamente en esa posicion.\n",
        "                predicted_img_mask[coord[0],coord[1],0] = clase2rgbcolor_encoding(clase_mas_votos_celula)[0]#estan bien definidos\n",
        "                predicted_img_mask[coord[0],coord[1],1] = clase2rgbcolor_encoding(clase_mas_votos_celula)[1]\n",
        "                predicted_img_mask[coord[0],coord[1],2] = clase2rgbcolor_encoding(clase_mas_votos_celula)[2]\n",
        "                predicted_img_mask_class[coord[1],coord[0]] = clase2intnumber_encoding(clase_mas_votos_celula)\n",
        "    aux_index_lista_properties +=1\n",
        "\n",
        "    lista_predicted_img_mask.append(predicted_img_mask)\n",
        "    lista_predicted_img_mask_class.append(predicted_img_mask_class)"
      ],
      "execution_count": null,
      "outputs": []
    },
    {
      "cell_type": "code",
      "metadata": {
        "id": "U0SgvXYnflC4"
      },
      "source": [
        "#EJEMPLO CLASIFICACION UNA ANOTACION\n",
        "plt.style.use('default')\n",
        "indice_mask= 1\n",
        "lado_img = lista_predicted_img_mask[indice_mask].shape[0]\n",
        "\n",
        "plt.imshow(lista_predicted_img_mask[indice_mask])\n",
        "plt.title('anotacion '+str(indice_mask)+', clase patologo: '+ str(HDAB[3][indice_mask]))\n",
        "\n",
        "pos_texto = lado_img+50\n",
        "plt.text(pos_texto, 100, 'clase 3+ -> magenta',fontsize=12, color = 'm') \n",
        "plt.text(pos_texto, 200, 'clase 2+ -> azul',fontsize=12, color = 'b') \n",
        "plt.text(pos_texto, 300, 'clase 1+ -> rojo',fontsize=12, color = 'r') \n",
        "plt.text(pos_texto, 400, 'clase 0 -> amarillo',fontsize=12, color = 'y') \n",
        "plt.text(pos_texto, 500, 'clase no-tumor-> negro',fontsize=12, color = 'k')\n",
        "#plt.colorbar()\n",
        "\n",
        "\n"
      ],
      "execution_count": null,
      "outputs": []
    },
    {
      "cell_type": "code",
      "metadata": {
        "id": "bw-UO_721qmP"
      },
      "source": [
        "#A partir de las lista de listas de propertie genera las maskaras finales de las celulas que se detectaron\n",
        "lista_lados_parches = []\n",
        "base_path_H = \"/content/gdrive/MyDrive/memoria/jueves22/canalH/\"\n",
        "canalH_paths=[img_path for img_path in os.listdir(base_path_H)]\n",
        "canalH_paths = sort_especial(canalH_paths)\n",
        "for path in canalH_paths: \n",
        "    image = io.imread(base_path_H+path)\n",
        "    lista_lados_parches.append(image.shape[0])\n",
        "################### ¿como entender la lista de listas de propertie? ########################\n",
        "#las properties son las componentes conexas, una propertie es una celula\n",
        "#para cada mascara vinaria skimage genera una lista de properties\n",
        "#yo guardo una lista de esas listas de properties, en la variable llamada: lista_properties.\n",
        "#ahora, en esta celda le di un nombre mas largo para que quede mas claro.\n",
        "lista_de_lista_de_propertie = lista_properties\n",
        "i = 0\n",
        "maskaras_resultantes=[]\n",
        "for lista_propertie in lista_de_lista_de_propertie:\n",
        "    mask = reconstruir_mask(lista_lados_parches[i],lista_propertie)\n",
        "    maskaras_resultantes.append(mask)\n",
        "    i+=1\n"
      ],
      "execution_count": null,
      "outputs": []
    },
    {
      "cell_type": "code",
      "metadata": {
        "id": "59d5dVQ7-pm9"
      },
      "source": [
        "plt.imshow(maskaras_resultantes[14],cmap='gray')"
      ],
      "execution_count": null,
      "outputs": []
    },
    {
      "cell_type": "code",
      "metadata": {
        "id": "fe240BKb6_TN"
      },
      "source": [
        "def or_masks(boolean_mask1, boolean_mask2):\n",
        "    if boolean_mask1.shape != boolean_mask2.shape:\n",
        "        raise Exception('boolean_mask1 y boolean_mask2 deben tener la misma dimension')\n",
        "    boolean_mask_result = np.full_like(boolean_mask1, fill_value = False, dtype=bool)#crea un numpy array lleno con False de dimensiones iguales a boolean_mask1\n",
        "    for i in range(boolean_mask1.shape[1]):\n",
        "        for j in range(boolean_mask1.shape[0]):\n",
        "            if boolean_mask1[i,j]==True or boolean_mask2[i,j]==True:\n",
        "                boolean_mask_result[i,j]=True\n",
        "    return boolean_mask_result \n",
        "\n",
        "def reconstruir_mask(lado_parche,list_propertie):#recontruye la maskara con todas las celulas a partir de la lista de objetos properties\n",
        "    mask = np.full((lado_parche, lado_parche),False, dtype= bool)\n",
        "    for propertie in list_propertie:\n",
        "        for coord in propertie.coords:\n",
        "            i = coord[0]\n",
        "            j = coord[1] \n",
        "            mask[i,j] = True\n",
        "    return mask"
      ],
      "execution_count": null,
      "outputs": []
    },
    {
      "cell_type": "code",
      "metadata": {
        "id": "XOyAfUcyfkzi"
      },
      "source": [
        "#EJEMPLO CLASIFICACION UNA ANOTACION Y ANOTACION ORIGINAL\n",
        "plt.style.use('default')\n",
        "\n",
        "indice_mask= 0\n",
        "fig, (ax1, ax2) = plt.subplots(1, 2)\n",
        "#fig.suptitle('anotacion '+str(indice_mask)+', clase : '+ str(HDAB[3][indice_mask]))\n",
        "ax1.imshow(lista_predicted_img_mask[indice_mask])\n",
        "\n",
        "base_path_rgb = '/content/gdrive/MyDrive/memoria/jueves22/png_imgs/'\n",
        "rgb_img_paths=sort_especial( [img_path for img_path in os.listdir(base_path_rgb)] )\n",
        "rgb_image = io.imread(base_path_rgb + rgb_img_paths[indice_mask])\n",
        "ax2.imshow(rgb_image)\n",
        "\n",
        "lado_img = lista_predicted_img_mask[indice_mask].shape[0]\n",
        "pos_texto = lado_img+50\n",
        "plt.title('anotacion '+str(indice_mask)+', clase patologo: '+ str(HDAB[3][indice_mask]))\n",
        "\n",
        "plt.text(pos_texto, 100, 'clase 3+ -> magenta',fontsize=12, c='m') \n",
        "plt.text(pos_texto, 200, 'clase 2+ -> azul',fontsize=12, c='b') \n",
        "plt.text(pos_texto, 300, 'clase 1+ -> rojo',fontsize=12, c='r') \n",
        "plt.text(pos_texto, 400, 'clase 0 -> amarillo/verde',fontsize=12, c='y') \n",
        "plt.text(pos_texto, 500, 'clase no-tumor-> negro',fontsize=12, c='k')\n",
        "\n",
        "plt.savefig('/content/gdrive/MyDrive/memoria/jueves22/resultados_plots/a'+str(indice_mask)+'.png')\n",
        "\n"
      ],
      "execution_count": null,
      "outputs": []
    },
    {
      "cell_type": "code",
      "metadata": {
        "id": "Sup533U31Kg8"
      },
      "source": [
        "#EJEMPLO una CLASIFICACION, una ANOTACION Y ANOTACION ORIGINAL\n",
        "plt.style.use('default')\n",
        "\n",
        "base_path_rgb = '/content/gdrive/MyDrive/memoria/jueves22/png_imgs/'\n",
        "rgb_img_paths=sort_especial( [img_path for img_path in os.listdir(base_path_rgb)] )\n",
        "\n",
        "indice_mask= 0\n",
        "fig, (ax1, ax2,ax3) = plt.subplots(1, 3)\n",
        "#fig.suptitle('anotacion '+str(indice_mask)+', clase : '+ str(HDAB[3][indice_mask]))\n",
        "ax1.imshow(lista_predicted_img_mask[indice_mask])\n",
        "rgb_image = io.imread(base_path_rgb+rgb_img_paths[indice_mask])\n",
        "ax2.imshow(rgb_image)\n",
        "\n",
        "ax3.imshow(maskaras_resultantes[indice_mask],cmap='gray')\n",
        "\n",
        "lado_img = lista_predicted_img_mask[indice_mask].shape[0]\n",
        "pos_texto = lado_img+50\n",
        "plt.title('anotacion '+str(indice_mask)+', clase patologo: '+ str(HDAB[3][indice_mask]))\n",
        "\n",
        "plt.text(pos_texto, 100, 'clase 3+ -> magenta',fontsize=12, c='m') \n",
        "plt.text(pos_texto, 200, 'clase 2+ -> azul',fontsize=12, c='b') \n",
        "plt.text(pos_texto, 300, 'clase 1+ -> rojo',fontsize=12, c='r') \n",
        "plt.text(pos_texto, 400, 'clase 0 -> amarillo/verde',fontsize=12, c='y') \n",
        "plt.text(pos_texto, 500, 'clase no-tumor-> negro',fontsize=12, c='k')\n",
        "\n",
        "plt.savefig('/content/gdrive/MyDrive/memoria/jueves22/resultados_plots/a'+str(indice_mask)+'.png')\n",
        "\n"
      ],
      "execution_count": null,
      "outputs": []
    },
    {
      "cell_type": "code",
      "metadata": {
        "id": "16gWrVrsf4xa"
      },
      "source": [
        "#Generar los 15 graficos con todas las anotaciones\n",
        "plt.style.use('default')\n",
        "\n",
        "#obtener los paths de las imagenes rgb para despues plotearlas al lado de las maskaras\n",
        "base_path_rgb = '/content/gdrive/MyDrive/memoria/jueves22/png_imgs/'\n",
        "rgb_img_paths=sort_especial( [img_path for img_path in os.listdir(base_path_rgb)] )\n",
        "\n",
        "indice_mask= 0\n",
        "for indice_mask in range(15):\n",
        "    fig, (ax1, ax2,ax3) = plt.subplots(1, 3)\n",
        "    #fig.suptitle('anotacion '+str(indice_mask)+', clase : '+ str(HDAB[3][indice_mask]))\n",
        "    ax1.imshow(lista_predicted_img_mask[indice_mask])\n",
        "    rgb_image = io.imread(base_path_rgb+rgb_img_paths[indice_mask])\n",
        "    ax2.imshow(rgb_image)\n",
        "    ax3.imshow(maskaras_resultantes[indice_mask],cmap='gray')\n",
        "\n",
        "    lado_img = lista_predicted_img_mask[indice_mask].shape[0]\n",
        "    pos_texto = lado_img+50\n",
        "\n",
        "    plt.title('anotacion '+str(indice_mask)+', clase patologo: '+ str(HDAB[3][indice_mask]))\n",
        "    plt.text(pos_texto, 100, 'clase 3+ -> magenta',fontsize=12, c='m') \n",
        "    plt.text(pos_texto, 200, 'clase 2+ -> azul',fontsize=12, c='b') \n",
        "    plt.text(pos_texto, 300, 'clase 1+ -> rojo',fontsize=12, c='r') \n",
        "    plt.text(pos_texto, 400, 'clase 0 -> amarillo/verde',fontsize=12, c='y') \n",
        "    plt.text(pos_texto, 500, 'clase no-tumor-> negro',fontsize=12, c='k')\n",
        "    plt.savefig('/content/gdrive/MyDrive/memoria/jueves22/resultados_plots/a'+str(indice_mask)+'.png')\n",
        "\n",
        "\n",
        "#plt.savefig('/content/gdrive/MyDrive/memoria/jueves22/resultados_plots/a'+str(indice_mask)+'.png')\n",
        "\n"
      ],
      "execution_count": null,
      "outputs": []
    },
    {
      "cell_type": "code",
      "metadata": {
        "id": "xbSE55IfkLNE"
      },
      "source": [
        "#guardar las maskaras generadas\n",
        "proy_folder = '/content/gdrive/MyDrive/memoria/jueves22/'\n",
        "try:\n",
        "    os.mkdir(proy_folder+'mask_predicted')\n",
        "except:     \n",
        "    pass\n",
        "path_folder_predicted_mask = '/content/gdrive/MyDrive/memoria/jueves22/mask_predicted/'\n",
        "i=0\n",
        "for mask in lista_predicted_img_mask:\n",
        "    cv2.imwrite(path_folder_predicted_mask+'mask_predicted_a_'+str(i)+'.tif', mask)\n",
        "    i+=1\n"
      ],
      "execution_count": null,
      "outputs": []
    },
    {
      "cell_type": "markdown",
      "metadata": {
        "id": "F0I5k4pQKVti"
      },
      "source": [
        "#Generacion db maskaras unicelulares"
      ]
    },
    {
      "cell_type": "markdown",
      "metadata": {
        "id": "zfP6r3efdciR"
      },
      "source": [
        "Determinar el ancho de las maskaras.\n",
        "Esta version es de maskaras de 160x160\n",
        "https://keras.io/examples/vision/oxford_pets_image_segmentation/\n",
        "\n"
      ]
    },
    {
      "cell_type": "code",
      "metadata": {
        "id": "hYTooVOtj-Dp"
      },
      "source": [
        "def get_lado_parche_unicelular(lista_de_lista_de_propertie):\n",
        "    anchos_properties = []\n",
        "    largos_properties = []\n",
        "    for lista_de_propertie_anotacion in lista_de_lista_de_propertie:\n",
        "        for propertie in lista_de_propertie_anotacion:\n",
        "            min_y, min_x, max_y, max_x = propertie.bbox\n",
        "            ancho = max_x - min_x\n",
        "            anchos_properties.append(ancho)\n",
        "            largo = max_y - min_y\n",
        "            largos_properties.append(largo)\n",
        "    ancho_max = max(anchos_properties)\n",
        "    largo_max = max(largos_properties)\n",
        "    lado_parche_unicelular = max(ancho_max,largo_max)\n",
        "    #print(pd.Series(largos_properties).describe())\n",
        "    #print(pd.Series(anchos_properties).describe())\n",
        "    return lado_parche_unicelular"
      ],
      "execution_count": null,
      "outputs": []
    },
    {
      "cell_type": "code",
      "metadata": {
        "id": "FlcPg-nOsSKn"
      },
      "source": [
        "lado_parche_unicelular = get_lado_parche_unicelular(lista_de_lista_de_propertie)\n",
        "print(lado_parche_unicelular)"
      ],
      "execution_count": null,
      "outputs": []
    },
    {
      "cell_type": "markdown",
      "metadata": {
        "id": "Yv_IV4jZ0XBA"
      },
      "source": [
        "links de interes:\n",
        "https://scikit-image.org/docs/dev/api/skimage.measure.html#skimage.measure.regionprops\n",
        "\n",
        "https://scikit-image.org/docs/dev/auto_examples/segmentation/plot_mask_slic.html#sphx-glr-auto-examples-segmentation-plot-mask-slic-py\n",
        "\n",
        "https://scikit-image.org/docs/dev/auto_examples/color_exposure/plot_ihc_color_separation.html#sphx-glr-auto-examples-color-exposure-plot-ihc-color-separation-py"
      ]
    },
    {
      "cell_type": "code",
      "metadata": {
        "id": "sG2Q0oBRdoiQ"
      },
      "source": [
        "lado_parche_unicelular = get_lado_parche_unicelular(lista_de_lista_de_propertie)\n",
        "lado_parche_unicelular = 160#por el momento porque la red que encontre esa de ese ancho de entrada\n",
        "lista_de_lista_de_mask_unicelular = []\n",
        "aux_index=0\n",
        "for lista_de_propertie_anotacion in tqdm(lista_de_lista_de_propertie):\n",
        "    mask_unicelular_anotacion=[]\n",
        "    for propertie in lista_de_propertie_anotacion:\n",
        "        #print(propertie.bbox)\n",
        "        #print('------------------------')\n",
        "        y_centroid, x_centroid = propertie.centroid\n",
        "        #print(y_centroid, x_centroid)\n",
        "        #propertie.centroid_local#centro del boundingbox\n",
        "        mask_clases_predichas = lista_predicted_img_mask_class[aux_index]\n",
        "        #print(mask_clases_predichas.shape)\n",
        "        int_clase_celula = mask_clases_predichas[int(x_centroid), int(y_centroid)]\n",
        "        color_celula = intnumber2rgbcolor_encoding(int_clase_celula)\n",
        "        l = mask_clases_predichas.shape[0]\n",
        "        mask_aux = np.full(shape = (l,l,3), fill_value=0, dtype=np.int)\n",
        "        for coord in propertie.coords:\n",
        "            mask_aux[coord[0],coord[1],0] = color_celula[0]\n",
        "            mask_aux[coord[0],coord[1],1] = color_celula[1]\n",
        "            mask_aux[coord[0],coord[1],2] = color_celula[2]\n",
        "        lpud2 = int(lado_parche_unicelular/2)#lpud2: lado parche unicelular dividido en 2\n",
        "        pto_supizq = (int(x_centroid-lpud2), int(x_centroid-lpud2))\n",
        "        pto_infder = (int(x_centroid+lpud2), int(x_centroid+lpud2))\n",
        "        mask_unicelular = mask_aux[ pto_supizq[0]:pto_infder[0], pto_supizq[1]:pto_infder[1]]\n",
        "        \n",
        "        mask_unicelular_anotacion.append(mask_unicelular)\n",
        "    aux_index+=1\n",
        "    lista_de_lista_de_mask_unicelular.append(mask_unicelular_anotacion)            \n",
        "    break\n"
      ],
      "execution_count": null,
      "outputs": []
    },
    {
      "cell_type": "code",
      "metadata": {
        "id": "qfvkINAoWdO2"
      },
      "source": [
        "#guardar las maskaras unicelulares generadas\n",
        "proy_folder = '/content/gdrive/MyDrive/memoria/jueves22/'\n",
        "try:\n",
        "    os.mkdir(proy_folder+'mask_unicelular_predicted')\n",
        "except:     \n",
        "    pass\n",
        "path_folder = '/content/gdrive/MyDrive/memoria/jueves22/mask_unicelular_predicted/'\n",
        "a=0\n",
        "for mascaras_anotacion in lista_de_lista_de_mask_unicelular:\n",
        "    b=0\n",
        "    for mask_unicelular in mascaras_anotacion:\n",
        "        cv2.imwrite(path_folder+'mask_unicelular_predicted_a'+str(a)+'_c'+str(b)+'.tif', mask)\n",
        "        b+=1\n",
        "    a+=1"
      ],
      "execution_count": null,
      "outputs": []
    },
    {
      "cell_type": "markdown",
      "metadata": {
        "id": "QjPJ7aN2Lq-Y"
      },
      "source": [
        "#Metricas evaluacion"
      ]
    },
    {
      "cell_type": "markdown",
      "metadata": {
        "id": "fXcukXupLtha"
      },
      "source": [
        "##Matriz de confusion"
      ]
    },
    {
      "cell_type": "code",
      "metadata": {
        "id": "mAtC-HpgLs7V"
      },
      "source": [
        "predicted_img_mask_class[1][1]"
      ],
      "execution_count": null,
      "outputs": []
    },
    {
      "cell_type": "code",
      "metadata": {
        "id": "XzC6WNOsbx6S"
      },
      "source": [
        "from sklearn.metrics import confusion_matrix, accuracy_score\n",
        "\n",
        "lista_confusion_matrix=[]\n",
        "lista_accuracy=[]\n",
        "i=0\n",
        "for mask_pred in lista_predicted_img_mask_class:\n",
        "    mask_pred = mask_pred.flatten()\n",
        "    mask_true = np.full(shape = mask_pred.shape, fill_value = clase2intnumber_encoding(HDAB[3][i]), dtype=np.int)\n",
        "    lista_confusion_matrix.append(confusion_matrix(mask_true, mask_pred))\n",
        "    lista_accuracy.append(accuracy_score(mask_true, mask_pred))"
      ],
      "execution_count": null,
      "outputs": []
    },
    {
      "cell_type": "markdown",
      "metadata": {
        "id": "Ft1EchzZLxKo"
      },
      "source": [
        "##Maskara rojo/verde"
      ]
    },
    {
      "cell_type": "code",
      "metadata": {
        "id": "haRQwU46L0ym"
      },
      "source": [
        "for mask_pred in lista_predicted_img_mask_class:\n",
        "    mask_pred = mask_pred.flatten()\n",
        "    mask_true = np.full(shape = mask_pred.shape, fill_value = clase2intnumber_encoding(HDAB[3][i]), dtype=np.int)\n",
        "    lista_confusion_matrix.append(confusion_matrix(mask_true, mask_pred))\n",
        "    lista_accuracy.append(accuracy_score(mask_true, mask_pred))"
      ],
      "execution_count": null,
      "outputs": []
    },
    {
      "cell_type": "markdown",
      "metadata": {
        "id": "4Htu_VWmkiBK"
      },
      "source": [
        "#Anexos y codigos de apoyo\n"
      ]
    },
    {
      "cell_type": "code",
      "metadata": {
        "id": "kKBQau5rkjo_"
      },
      "source": [
        "#graficando con for \n",
        "from skimage.filters import threshold_minimum\n",
        "\n",
        "\n",
        "image = data.camera()\n",
        "\n",
        "thresh_min = threshold_minimum(image)\n",
        "binary_min = image > thresh_min\n",
        "\n",
        "fig, ax = plt.subplots(2, 2, figsize=(10, 10))\n",
        "\n",
        "ax[0, 0].imshow(image, cmap=plt.cm.gray)\n",
        "ax[0, 0].set_title('Original')\n",
        "\n",
        "ax[0, 1].hist(image.ravel(), bins=256)\n",
        "ax[0, 1].set_title('Histogram')\n",
        "\n",
        "ax[1, 0].imshow(binary_min, cmap=plt.cm.gray)\n",
        "ax[1, 0].set_title('Thresholded (min)')\n",
        "\n",
        "ax[1, 1].hist(image.ravel(), bins=256)\n",
        "ax[1, 1].axvline(thresh_min, color='r')\n",
        "\n",
        "for a in ax[:, 0]:\n",
        "    a.axis('off')\n",
        "plt.show()"
      ],
      "execution_count": null,
      "outputs": []
    },
    {
      "cell_type": "markdown",
      "metadata": {
        "id": "jBo-U1xgOA9u"
      },
      "source": [
        "ploteando imagenes"
      ]
    },
    {
      "cell_type": "code",
      "metadata": {
        "id": "4VMorYpqOCQI"
      },
      "source": [
        "#fig = plt.figure()\n",
        "#plt.imshow(img_gray, cmap='gray')"
      ],
      "execution_count": null,
      "outputs": []
    },
    {
      "cell_type": "markdown",
      "metadata": {
        "id": "xlKQt7ebO7un"
      },
      "source": [
        "ploteando 2 imagenes"
      ]
    },
    {
      "cell_type": "code",
      "metadata": {
        "id": "d8yvyBzEO68M"
      },
      "source": [
        "fig = plt.figure()#<--- genera un objeto figure\n",
        "ax = fig.add_subplot(1, 2, 1)#se usa para ir agregandole cosas al objeto figure\n",
        "imgplot = plt.imshow(lum_img)\n",
        "ax.set_title('Before')\n",
        "plt.colorbar(ticks=[0.1, 0.3, 0.5, 0.7], orientation='horizontal')\n",
        "ax = fig.add_subplot(1, 2, 2)\n",
        "imgplot = plt.imshow(lum_img)\n",
        "imgplot.set_clim(0.0, 0.7)\n",
        "ax.set_title('After')\n",
        "plt.colorbar(ticks=[0.1, 0.3, 0.5, 0.7], orientation='horizontal')"
      ],
      "execution_count": null,
      "outputs": []
    },
    {
      "cell_type": "code",
      "metadata": {
        "id": "EDAYDemsO9Il"
      },
      "source": [
        ""
      ],
      "execution_count": null,
      "outputs": []
    }
  ]
}